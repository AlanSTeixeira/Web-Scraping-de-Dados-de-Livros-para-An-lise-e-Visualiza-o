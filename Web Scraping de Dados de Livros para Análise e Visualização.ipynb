{
 "cells": [
  {
   "cell_type": "markdown",
   "id": "ae550e07",
   "metadata": {},
   "source": [
    "# Web Scraping de Dados de Livros para Análise e Visualização\n",
    "\n",
    "A explosão do mercado editorial digital e o vasto volume de informações disponíveis online tornam a coleta e análise de dados essenciais para entender tendências, preços e disponibilidade de produtos. Neste trabalho, embarcaremos em um projeto de Web Scraping para extrair informações valiosas de um catálogo online de livros. Nosso objetivo é não apenas coletar esses dados de forma automatizada, mas também organizá-los e, em seguida, realizar análises exploratórias e visualizações que permitam insights sobre o mercado de livros."
   ]
  },
  {
   "cell_type": "markdown",
   "id": "5d4b0cc8",
   "metadata": {},
   "source": [
    "## Sobre o Conjunto de Dados\n",
    "\n",
    "O conjunto de dados para este estudo será construído por meio de raspagem de dados (web scraping) do site books.toscrape.com. Este site é uma plataforma fictícia, criada especificamente para fins de aprendizado e prática de web scraping. Ele oferece um catálogo diversificado de livros com informações como título, link, preço e status de estoque. Por ser um ambiente controlado e didático, é ideal para demonstrar as técnicas de coleta e processamento de dados de forma segura e ética, sem impactar sites reais."
   ]
  },
  {
   "cell_type": "markdown",
   "id": "f4f6c21c",
   "metadata": {},
   "source": [
    "## Etapas do Projeto\n",
    "\n",
    "Este projeto foi desenvolvido seguindo as seguintes etapas principais:\n",
    "\n",
    "- **Coleta dos Dados:** Utilização de bibliotecas Python como requests e BeautifulSoup para raspar automaticamente as informações dos livros do site books.toscrape.com.\n",
    "- **Exploração dos Dados:** Realização de análises estatísticas descritivas e criação de visualizações (gráficos de histograma para preços, gráficos de barras para estoque) para entender a distribuição e características dos dados coletados.\n",
    "- **Armazenamento dos Dados:** Exportação do conjunto de dados limpo e organizado para formatos acessíveis como arquivos Excel (.xlsx) e CSV (.csv) para uso futuro ou compartilhamento."
   ]
  },
  {
   "cell_type": "markdown",
   "id": "82223530",
   "metadata": {},
   "source": [
    "## Importando as Bibliotecas Necessárias"
   ]
  },
  {
   "cell_type": "markdown",
   "id": "0fcb05b4",
   "metadata": {},
   "source": [
    "- requests para fazer requisições web \n",
    "- BeautifulSoup para analisar o HTML das páginas\n",
    "- pandas para criar e manipular DataFrames e exportá-los.\n",
    "- matplotlib para a criação de gráficos\n",
    "- seaborn para a criação de gráficos"
   ]
  },
  {
   "cell_type": "code",
   "execution_count": 15,
   "id": "a557af6b",
   "metadata": {},
   "outputs": [],
   "source": [
    "import requests\n",
    "from bs4 import BeautifulSoup\n",
    "import pandas as pd\n",
    "import matplotlib.pyplot as plt\n",
    "import seaborn as sns"
   ]
  },
  {
   "cell_type": "markdown",
   "id": "a12cd4fa",
   "metadata": {},
   "source": [
    "- Definindo uma variável pagina_atual para controlar a página atual que está sendo raspada, começando da página 1.\n",
    "- Criando uma lista vazia chamada dados onde as informações de cada livro serão armazenadas temporariamente."
   ]
  },
  {
   "cell_type": "code",
   "execution_count": 2,
   "id": "e5ffa530",
   "metadata": {},
   "outputs": [],
   "source": [
    "pagina_atual = 1\n",
    "\n",
    "dados = []"
   ]
  },
  {
   "cell_type": "markdown",
   "id": "177ad4d3",
   "metadata": {},
   "source": [
    "## Loop de Raspagem (Enquanto houver páginas)"
   ]
  },
  {
   "cell_type": "code",
   "execution_count": 3,
   "id": "4d11818b",
   "metadata": {},
   "outputs": [
    {
     "name": "stdout",
     "output_type": "stream",
     "text": [
      "Raspando página atualmente: 1\n",
      "Raspando página atualmente: 2\n",
      "Raspando página atualmente: 3\n",
      "Raspando página atualmente: 4\n",
      "Raspando página atualmente: 5\n",
      "Raspando página atualmente: 6\n",
      "Raspando página atualmente: 7\n",
      "Raspando página atualmente: 8\n",
      "Raspando página atualmente: 9\n",
      "Raspando página atualmente: 10\n",
      "Raspando página atualmente: 11\n",
      "Raspando página atualmente: 12\n",
      "Raspando página atualmente: 13\n",
      "Raspando página atualmente: 14\n",
      "Raspando página atualmente: 15\n",
      "Raspando página atualmente: 16\n",
      "Raspando página atualmente: 17\n",
      "Raspando página atualmente: 18\n",
      "Raspando página atualmente: 19\n",
      "Raspando página atualmente: 20\n",
      "Raspando página atualmente: 21\n",
      "Raspando página atualmente: 22\n",
      "Raspando página atualmente: 23\n",
      "Raspando página atualmente: 24\n",
      "Raspando página atualmente: 25\n",
      "Raspando página atualmente: 26\n",
      "Raspando página atualmente: 27\n",
      "Raspando página atualmente: 28\n",
      "Raspando página atualmente: 29\n",
      "Raspando página atualmente: 30\n",
      "Raspando página atualmente: 31\n",
      "Raspando página atualmente: 32\n",
      "Raspando página atualmente: 33\n",
      "Raspando página atualmente: 34\n",
      "Raspando página atualmente: 35\n",
      "Raspando página atualmente: 36\n",
      "Raspando página atualmente: 37\n",
      "Raspando página atualmente: 38\n",
      "Raspando página atualmente: 39\n",
      "Raspando página atualmente: 40\n",
      "Raspando página atualmente: 41\n",
      "Raspando página atualmente: 42\n",
      "Raspando página atualmente: 43\n",
      "Raspando página atualmente: 44\n",
      "Raspando página atualmente: 45\n",
      "Raspando página atualmente: 46\n",
      "Raspando página atualmente: 47\n",
      "Raspando página atualmente: 48\n",
      "Raspando página atualmente: 49\n",
      "Raspando página atualmente: 50\n",
      "Raspando página atualmente: 51\n"
     ]
    }
   ],
   "source": [
    "continuar_raspagem = True\n",
    "\n",
    "while(continuar_raspagem):\n",
    "    print(\"Raspando página atualmente: \"+str(pagina_atual))\n",
    "\n",
    "    url = \"https://books.toscrape.com/catalogue/page-\"+str(pagina_atual)+\".html\"\n",
    "    \n",
    "    soup = BeautifulSoup(pagina_web.text,\"html.parser\")\n",
    "\n",
    "    if soup.title.text == \"404 Not Found\":\n",
    "        continuar_raspagem = False\n",
    "    else:\n",
    "        todos_livros = soup.find_all(\"li\",class_=\"col-xs-6 col-sm-4 col-md-3 col-lg-3\")\n",
    "\n",
    "        for livro in todos_livros:\n",
    "            item_livro = {}\n",
    "\n",
    "            item_livro['Titulo'] = livro.find(\"img\").attrs[\"alt\"]\n",
    "\n",
    "            item_livro['Link'] = \"https://books.toscrape.com/catalogue/\"+livro.find(\"a\").attrs[\"href\"]\n",
    "\n",
    "            item_livro['Preco'] = livro.find(\"p\", class_=\"price_color\").text[2:]\n",
    "\n",
    "            item_livro['Estoque'] = livro.find(\"p\", class_=\"instock availability\").text.strip()\n",
    "\n",
    "            dados.append(item_livro)\n",
    "\n",
    "    pagina_atual += 1"
   ]
  },
  {
   "cell_type": "markdown",
   "id": "ffdce468",
   "metadata": {},
   "source": [
    "## Exportação dos Dados:\n",
    "\n",
    "Salvando este DataFrame em dois formatos:\n",
    "- **livros.xlsx:** Um arquivo de planilha Excel.\n",
    "- **livros.csv:** Um arquivo CSV."
   ]
  },
  {
   "cell_type": "code",
   "execution_count": 4,
   "id": "272a6380",
   "metadata": {},
   "outputs": [],
   "source": [
    "df_livros = pd.DataFrame(dados)\n",
    "df_livros.to_excel(\"livros.xlsx\", index=False) # Adicionado index=False para não salvar o índice como coluna\n",
    "df_livros.to_csv(\"livros.csv\", encoding='utf-8-sig', index=False) # Usando 'utf-8-sig' e index=False para melhor compatibilidade"
   ]
  },
  {
   "cell_type": "markdown",
   "id": "fc969d57",
   "metadata": {},
   "source": [
    "## Lendo o arquivo CSV"
   ]
  },
  {
   "cell_type": "code",
   "execution_count": 6,
   "id": "6a8cf52c",
   "metadata": {},
   "outputs": [],
   "source": [
    "df= pd.read_csv(\"livros.csv\")"
   ]
  },
  {
   "cell_type": "markdown",
   "id": "be8d2b2c",
   "metadata": {},
   "source": [
    "## Visualizando o shape, as primeiras e ultimas 5 linhas do dataset com 'display'"
   ]
  },
  {
   "cell_type": "code",
   "execution_count": 7,
   "id": "6e771862",
   "metadata": {},
   "outputs": [
    {
     "data": {
      "text/html": [
       "<div>\n",
       "<style scoped>\n",
       "    .dataframe tbody tr th:only-of-type {\n",
       "        vertical-align: middle;\n",
       "    }\n",
       "\n",
       "    .dataframe tbody tr th {\n",
       "        vertical-align: top;\n",
       "    }\n",
       "\n",
       "    .dataframe thead th {\n",
       "        text-align: right;\n",
       "    }\n",
       "</style>\n",
       "<table border=\"1\" class=\"dataframe\">\n",
       "  <thead>\n",
       "    <tr style=\"text-align: right;\">\n",
       "      <th></th>\n",
       "      <th>Titulo</th>\n",
       "      <th>Link</th>\n",
       "      <th>Preco</th>\n",
       "      <th>Estoque</th>\n",
       "    </tr>\n",
       "  </thead>\n",
       "  <tbody>\n",
       "    <tr>\n",
       "      <th>0</th>\n",
       "      <td>A Light in the Attic</td>\n",
       "      <td>https://books.toscrape.com/catalogue/a-light-i...</td>\n",
       "      <td>51.77</td>\n",
       "      <td>In stock</td>\n",
       "    </tr>\n",
       "    <tr>\n",
       "      <th>1</th>\n",
       "      <td>Tipping the Velvet</td>\n",
       "      <td>https://books.toscrape.com/catalogue/tipping-t...</td>\n",
       "      <td>53.74</td>\n",
       "      <td>In stock</td>\n",
       "    </tr>\n",
       "    <tr>\n",
       "      <th>2</th>\n",
       "      <td>Soumission</td>\n",
       "      <td>https://books.toscrape.com/catalogue/soumissio...</td>\n",
       "      <td>50.10</td>\n",
       "      <td>In stock</td>\n",
       "    </tr>\n",
       "    <tr>\n",
       "      <th>3</th>\n",
       "      <td>Sharp Objects</td>\n",
       "      <td>https://books.toscrape.com/catalogue/sharp-obj...</td>\n",
       "      <td>47.82</td>\n",
       "      <td>In stock</td>\n",
       "    </tr>\n",
       "    <tr>\n",
       "      <th>4</th>\n",
       "      <td>Sapiens: A Brief History of Humankind</td>\n",
       "      <td>https://books.toscrape.com/catalogue/sapiens-a...</td>\n",
       "      <td>54.23</td>\n",
       "      <td>In stock</td>\n",
       "    </tr>\n",
       "    <tr>\n",
       "      <th>...</th>\n",
       "      <td>...</td>\n",
       "      <td>...</td>\n",
       "      <td>...</td>\n",
       "      <td>...</td>\n",
       "    </tr>\n",
       "    <tr>\n",
       "      <th>995</th>\n",
       "      <td>Alice in Wonderland (Alice's Adventures in Won...</td>\n",
       "      <td>https://books.toscrape.com/catalogue/alice-in-...</td>\n",
       "      <td>55.53</td>\n",
       "      <td>In stock</td>\n",
       "    </tr>\n",
       "    <tr>\n",
       "      <th>996</th>\n",
       "      <td>Ajin: Demi-Human, Volume 1 (Ajin: Demi-Human #1)</td>\n",
       "      <td>https://books.toscrape.com/catalogue/ajin-demi...</td>\n",
       "      <td>57.06</td>\n",
       "      <td>In stock</td>\n",
       "    </tr>\n",
       "    <tr>\n",
       "      <th>997</th>\n",
       "      <td>A Spy's Devotion (The Regency Spies of London #1)</td>\n",
       "      <td>https://books.toscrape.com/catalogue/a-spys-de...</td>\n",
       "      <td>16.97</td>\n",
       "      <td>In stock</td>\n",
       "    </tr>\n",
       "    <tr>\n",
       "      <th>998</th>\n",
       "      <td>1st to Die (Women's Murder Club #1)</td>\n",
       "      <td>https://books.toscrape.com/catalogue/1st-to-di...</td>\n",
       "      <td>53.98</td>\n",
       "      <td>In stock</td>\n",
       "    </tr>\n",
       "    <tr>\n",
       "      <th>999</th>\n",
       "      <td>1,000 Places to See Before You Die</td>\n",
       "      <td>https://books.toscrape.com/catalogue/1000-plac...</td>\n",
       "      <td>26.08</td>\n",
       "      <td>In stock</td>\n",
       "    </tr>\n",
       "  </tbody>\n",
       "</table>\n",
       "<p>1000 rows × 4 columns</p>\n",
       "</div>"
      ],
      "text/plain": [
       "                                                Titulo  \\\n",
       "0                                 A Light in the Attic   \n",
       "1                                   Tipping the Velvet   \n",
       "2                                           Soumission   \n",
       "3                                        Sharp Objects   \n",
       "4                Sapiens: A Brief History of Humankind   \n",
       "..                                                 ...   \n",
       "995  Alice in Wonderland (Alice's Adventures in Won...   \n",
       "996   Ajin: Demi-Human, Volume 1 (Ajin: Demi-Human #1)   \n",
       "997  A Spy's Devotion (The Regency Spies of London #1)   \n",
       "998                1st to Die (Women's Murder Club #1)   \n",
       "999                 1,000 Places to See Before You Die   \n",
       "\n",
       "                                                  Link  Preco   Estoque  \n",
       "0    https://books.toscrape.com/catalogue/a-light-i...  51.77  In stock  \n",
       "1    https://books.toscrape.com/catalogue/tipping-t...  53.74  In stock  \n",
       "2    https://books.toscrape.com/catalogue/soumissio...  50.10  In stock  \n",
       "3    https://books.toscrape.com/catalogue/sharp-obj...  47.82  In stock  \n",
       "4    https://books.toscrape.com/catalogue/sapiens-a...  54.23  In stock  \n",
       "..                                                 ...    ...       ...  \n",
       "995  https://books.toscrape.com/catalogue/alice-in-...  55.53  In stock  \n",
       "996  https://books.toscrape.com/catalogue/ajin-demi...  57.06  In stock  \n",
       "997  https://books.toscrape.com/catalogue/a-spys-de...  16.97  In stock  \n",
       "998  https://books.toscrape.com/catalogue/1st-to-di...  53.98  In stock  \n",
       "999  https://books.toscrape.com/catalogue/1000-plac...  26.08  In stock  \n",
       "\n",
       "[1000 rows x 4 columns]"
      ]
     },
     "metadata": {},
     "output_type": "display_data"
    }
   ],
   "source": [
    "display(df)"
   ]
  },
  {
   "cell_type": "markdown",
   "id": "f6c939e6",
   "metadata": {},
   "source": [
    "## Visualizando informações básicas do dataset"
   ]
  },
  {
   "cell_type": "code",
   "execution_count": 9,
   "id": "9af48846",
   "metadata": {},
   "outputs": [
    {
     "name": "stdout",
     "output_type": "stream",
     "text": [
      "<class 'pandas.core.frame.DataFrame'>\n",
      "RangeIndex: 1000 entries, 0 to 999\n",
      "Data columns (total 4 columns):\n",
      " #   Column   Non-Null Count  Dtype  \n",
      "---  ------   --------------  -----  \n",
      " 0   Titulo   1000 non-null   object \n",
      " 1   Link     1000 non-null   object \n",
      " 2   Preco    1000 non-null   float64\n",
      " 3   Estoque  1000 non-null   object \n",
      "dtypes: float64(1), object(3)\n",
      "memory usage: 31.4+ KB\n"
     ]
    }
   ],
   "source": [
    "df.info()"
   ]
  },
  {
   "cell_type": "markdown",
   "id": "3d101c1d",
   "metadata": {},
   "source": [
    "## Verificando se há algum valor nulo"
   ]
  },
  {
   "cell_type": "code",
   "execution_count": 10,
   "id": "a0909c99",
   "metadata": {},
   "outputs": [
    {
     "data": {
      "text/plain": [
       "Titulo     0\n",
       "Link       0\n",
       "Preco      0\n",
       "Estoque    0\n",
       "dtype: int64"
      ]
     },
     "execution_count": 10,
     "metadata": {},
     "output_type": "execute_result"
    }
   ],
   "source": [
    "df.isnull().sum()"
   ]
  },
  {
   "cell_type": "markdown",
   "id": "e498f310",
   "metadata": {},
   "source": [
    "# Análise Exploratória dos dados (EDA)"
   ]
  },
  {
   "cell_type": "code",
   "execution_count": 11,
   "id": "a65c2cb4",
   "metadata": {},
   "outputs": [
    {
     "data": {
      "text/html": [
       "<div>\n",
       "<style scoped>\n",
       "    .dataframe tbody tr th:only-of-type {\n",
       "        vertical-align: middle;\n",
       "    }\n",
       "\n",
       "    .dataframe tbody tr th {\n",
       "        vertical-align: top;\n",
       "    }\n",
       "\n",
       "    .dataframe thead th {\n",
       "        text-align: right;\n",
       "    }\n",
       "</style>\n",
       "<table border=\"1\" class=\"dataframe\">\n",
       "  <thead>\n",
       "    <tr style=\"text-align: right;\">\n",
       "      <th></th>\n",
       "      <th>Preco</th>\n",
       "    </tr>\n",
       "  </thead>\n",
       "  <tbody>\n",
       "    <tr>\n",
       "      <th>count</th>\n",
       "      <td>1000.00000</td>\n",
       "    </tr>\n",
       "    <tr>\n",
       "      <th>mean</th>\n",
       "      <td>35.07035</td>\n",
       "    </tr>\n",
       "    <tr>\n",
       "      <th>std</th>\n",
       "      <td>14.44669</td>\n",
       "    </tr>\n",
       "    <tr>\n",
       "      <th>min</th>\n",
       "      <td>10.00000</td>\n",
       "    </tr>\n",
       "    <tr>\n",
       "      <th>25%</th>\n",
       "      <td>22.10750</td>\n",
       "    </tr>\n",
       "    <tr>\n",
       "      <th>50%</th>\n",
       "      <td>35.98000</td>\n",
       "    </tr>\n",
       "    <tr>\n",
       "      <th>75%</th>\n",
       "      <td>47.45750</td>\n",
       "    </tr>\n",
       "    <tr>\n",
       "      <th>max</th>\n",
       "      <td>59.99000</td>\n",
       "    </tr>\n",
       "  </tbody>\n",
       "</table>\n",
       "</div>"
      ],
      "text/plain": [
       "            Preco\n",
       "count  1000.00000\n",
       "mean     35.07035\n",
       "std      14.44669\n",
       "min      10.00000\n",
       "25%      22.10750\n",
       "50%      35.98000\n",
       "75%      47.45750\n",
       "max      59.99000"
      ]
     },
     "execution_count": 11,
     "metadata": {},
     "output_type": "execute_result"
    }
   ],
   "source": [
    "df.describe()"
   ]
  },
  {
   "cell_type": "markdown",
   "id": "c092b41c",
   "metadata": {},
   "source": [
    "## Gráfico de Histograma para a Distribuição de Preços"
   ]
  },
  {
   "cell_type": "code",
   "execution_count": 16,
   "id": "a8d5765e",
   "metadata": {},
   "outputs": [
    {
     "data": {
      "image/png": "[encoded data removed]",
      "text/plain": [
       "<Figure size 1000x600 with 1 Axes>"
      ]
     },
     "metadata": {},
     "output_type": "display_data"
    }
   ],
   "source": [
    "plt.figure(figsize=(10, 6)) # Define o tamanho da figura (largura, altura)\n",
    "sns.histplot(df_livros['Preco'], bins=20, kde=True, color='skyblue')\n",
    "plt.title('Distribuição de Preços dos Livros')\n",
    "plt.xlabel('Preço (R$)')\n",
    "plt.ylabel('Número de Livros')\n",
    "plt.grid(axis='y', linestyle='--', alpha=0.7) # Adiciona uma grade horizontal\n",
    "plt.show()"
   ]
  },
  {
   "cell_type": "markdown",
   "id": "bbb4d8d8",
   "metadata": {},
   "source": [
    "## Análise Estatística da Coluna 'Preco'\n",
    "\n",
    "- **count (Contagem): 1000.00000**\n",
    "\n",
    "Isso significa que o seu DataFrame contém informações de 1000 livros. Cada linha representa um livro, e para todos eles, há um valor de preço. Isso é um bom indicativo de que a raspagem foi bem-sucedida em coletar dados de mil itens.\n",
    "\n",
    "- **mean (Média): 35.07035**\n",
    "\n",
    "O preço médio dos livros no dataset é de aproximadamente 35,07 reais. Essa é uma medida de tendência central que nos dá uma ideia do \"preço típico\" dos livros.\n",
    "\n",
    "- **std (Desvio Padrão): 14.44669**\n",
    "\n",
    "O desvio padrão mede a dispersão dos preços em relação à média. Um valor de 14,45 reais indica que os preços dos livros não estão muito concentrados em torno da média de 35,07 reais. Há uma variação considerável, ou seja, você encontrará livros com preços significativamente acima e abaixo da média.\n",
    "\n",
    "- **min (Mínimo): 10.00000**\n",
    "\n",
    "O preço mais baixo encontrado entre os 1000 livros é de 10,00 reais.\n",
    "\n",
    "- **25% (Primeiro Quartil): 22.10750**\n",
    "\n",
    "Isso significa que 25% dos livros custam até 22,11 reais. É o limite inferior dos preços da maioria dos livros mais baratos.\n",
    "\n",
    "- **50% (Mediana): 35.98000**\n",
    "\n",
    "A mediana é o preço que divide os dados exatamente ao meio. 50% dos livros custam até 35,98 reais e 50% custam mais que 35,98 reais. Note que a mediana (35,98 reais) está bem próxima da média (35,07 reais), o que sugere que a distribuição dos preços é relativamente simétrica, sem muitos valores extremos puxando a média para um lado."
   ]
  },
  {
   "cell_type": "markdown",
   "id": "2cad46d6",
   "metadata": {},
   "source": [
    "## Insights sobre o Preço dos Livros:\n",
    "\n",
    "Com base nesses dados, podemos dizer que você tem uma coleção de preços de mil livros com uma boa faixa de valores, começando em 10,00 reais e com a maioria dos livros agrupados em torno dos 35 reais a 36 reais. A variação de 14,45 reais no desvio padrão é esperada em um catálogo de livros."
   ]
  },
  {
   "cell_type": "markdown",
   "id": "765d77f3",
   "metadata": {},
   "source": [
    "## Verificando a quantidade de livros em estoque"
   ]
  },
  {
   "cell_type": "code",
   "execution_count": 22,
   "id": "a03e9bea",
   "metadata": {},
   "outputs": [
    {
     "name": "stdout",
     "output_type": "stream",
     "text": [
      "Total de livros 'In stock': 1000\n"
     ]
    }
   ],
   "source": [
    "livros_em_estoque = df_livros[df_livros['Estoque'] == 'In stock'].shape[0]\n",
    "print(f\"Total de livros 'In stock': {livros_em_estoque}\")"
   ]
  },
  {
   "cell_type": "markdown",
   "id": "13ad47e9",
   "metadata": {},
   "source": [
    "## Gráfico de Barras para a Quantidade de Livros em Estoque"
   ]
  },
  {
   "cell_type": "code",
   "execution_count": 17,
   "id": "4c7b73be",
   "metadata": {},
   "outputs": [
    {
     "data": {
      "image/png": "[encoded data removed]",
      "text/plain": [
       "<Figure size 800x500 with 1 Axes>"
      ]
     },
     "metadata": {},
     "output_type": "display_data"
    }
   ],
   "source": [
    "# Contar a ocorrência de cada status de estoque\n",
    "contagem_estoque = df_livros['Estoque'].value_counts()\n",
    "\n",
    "plt.figure(figsize=(8, 5)) # Define o tamanho da figura\n",
    "sns.barplot(x=contagem_estoque.index, y=contagem_estoque.values, palette='viridis')\n",
    "plt.title('Quantidade de Livros por Status de Estoque')\n",
    "plt.xlabel('Status de Estoque')\n",
    "plt.ylabel('Número de Livros')\n",
    "plt.xticks(rotation=45, ha='right') # Rotaciona os rótulos do eixo X para melhor leitura\n",
    "plt.grid(axis='y', linestyle='--', alpha=0.7) # Adiciona uma grade horizontal\n",
    "plt.tight_layout() # Ajusta o layout para evitar sobreposição\n",
    "plt.show()"
   ]
  },
  {
   "cell_type": "markdown",
   "id": "51ff6dd8",
   "metadata": {},
   "source": [
    "## Insights sobre a Quantidade de Livros em Estoque:\n",
    "\n",
    "Isso significa que todos os 1000 livros no seu dataset estão marcados como \"In stock\", ou seja, nenhum está esgotado pelos dados que você raspou"
   ]
  }
 ],
 "metadata": {
  "kernelspec": {
   "display_name": "Python 3 (ipykernel)",
   "language": "python",
   "name": "python3"
  },
  "language_info": {
   "codemirror_mode": {
    "name": "ipython",
    "version": 3
   },
   "file_extension": ".py",
   "mimetype": "text/x-python",
   "name": "python",
   "nbconvert_exporter": "python",
   "pygments_lexer": "ipython3",
   "version": "3.9.13"
  }
 },
 "nbformat": 4,
 "nbformat_minor": 5
}
